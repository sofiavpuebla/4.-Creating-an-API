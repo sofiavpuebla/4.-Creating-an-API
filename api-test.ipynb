{
 "cells": [
  {
   "cell_type": "code",
   "execution_count": 42,
   "metadata": {},
   "outputs": [],
   "source": [
    "import requests"
   ]
  },
  {
   "cell_type": "code",
   "execution_count": 43,
   "metadata": {},
   "outputs": [],
   "source": [
    "API=\"http://localhost:5000\""
   ]
  },
  {
   "cell_type": "code",
   "execution_count": 46,
   "metadata": {},
   "outputs": [],
   "source": [
    "url=API+\"/\""
   ]
  },
  {
   "cell_type": "code",
   "execution_count": 47,
   "metadata": {},
   "outputs": [
    {
     "data": {
      "text/plain": [
       "'Welcome to my api'"
      ]
     },
     "execution_count": 47,
     "metadata": {},
     "output_type": "execute_result"
    }
   ],
   "source": [
    "res=requests.get(url)\n",
    "res.text"
   ]
  },
  {
   "cell_type": "code",
   "execution_count": 14,
   "metadata": {},
   "outputs": [],
   "source": [
    "from pymongo import MongoClient"
   ]
  },
  {
   "cell_type": "code",
   "execution_count": 15,
   "metadata": {},
   "outputs": [
    {
     "name": "stdout",
     "output_type": "stream",
     "text": [
      "connected to mongodb://localhost/myapi\n"
     ]
    }
   ],
   "source": [
    "DBURL= \"mongodb://localhost/myapi\"\n",
    "client = MongoClient(DBURL)\n",
    "print(f\"connected to {DBURL}\")\n",
    "db = client.get_database()"
   ]
  },
  {
   "cell_type": "code",
   "execution_count": 17,
   "metadata": {},
   "outputs": [
    {
     "name": "stdout",
     "output_type": "stream",
     "text": [
      "{'_id': {'$oid': '5f0db8ab3c64cef385f63ddc'}, 'username': 'Jesse'}\n",
      "{'_id': {'$oid': '5f0db8ab3c64cef385f63ddd'}, 'username': 'Celine'}\n",
      "{'_id': {'$oid': '5f0db8ab3c64cef385f63dde'}, 'username': 'Clementine Kruczynski'}\n",
      "{'_id': {'$oid': '5f0db8ab3c64cef385f63ddf'}, 'username': 'Joel Barish'}\n",
      "{'_id': {'$oid': '5f0db8ab3c64cef385f63de0'}, 'username': 'Mary'}\n"
     ]
    }
   ],
   "source": [
    "names=[\"Jesse\",\"Celine\",\"Clementine Kruczynski\",\"Joel Barish\",\"Mary\"]\n",
    "for name in names:\n",
    "    url=API+f\"/user/create/{name}\"\n",
    "    res=requests.get(url)\n",
    "    print(res.json())"
   ]
  },
  {
   "cell_type": "code",
   "execution_count": 26,
   "metadata": {},
   "outputs": [
    {
     "name": "stdout",
     "output_type": "stream",
     "text": [
      "{'message': 'User already exists', 'status': 'error'}\n"
     ]
    }
   ],
   "source": [
    "#probamos si efectivamente no se puede añadir un usuario ya existente\n",
    "url=API+f\"/user/create/Jesse\"\n",
    "res=requests.get(url)\n",
    "print(res.json())"
   ]
  },
  {
   "cell_type": "code",
   "execution_count": 19,
   "metadata": {},
   "outputs": [
    {
     "name": "stdout",
     "output_type": "stream",
     "text": [
      "{'_id': {'$oid': '5f0db8f33c64cef385f63de1'}, 'chat_name': 'Eternal Sunshine Of The Spotless Mind'}\n",
      "{'_id': {'$oid': '5f0db8f33c64cef385f63de2'}, 'chat_name': 'Before Sunrise'}\n",
      "{'_id': {'$oid': '5f0db8f33c64cef385f63de3'}, 'chat_name': 'Before Sunset'}\n",
      "{'_id': {'$oid': '5f0db8f33c64cef385f63de4'}, 'chat_name': 'Before Midnight'}\n"
     ]
    }
   ],
   "source": [
    "chats=[\"Eternal Sunshine Of The Spotless Mind\",\"Before Sunrise\",\"Before Sunset\",\"Before Midnight\"]\n",
    "for chat in chats:\n",
    "    url=API+f\"/chat/create/{chat}\"\n",
    "    res=requests.get(url)\n",
    "    print(res.json())"
   ]
  },
  {
   "cell_type": "code",
   "execution_count": 27,
   "metadata": {},
   "outputs": [
    {
     "name": "stdout",
     "output_type": "stream",
     "text": [
      "{'message': 'Chat name already exists, please insert another one', 'status': 'error'}\n"
     ]
    }
   ],
   "source": [
    "#probamos a crear un chat con un nombre ya existente\n",
    "url=API+f\"/chat/create/Before Sunrise\"\n",
    "res=requests.get(url)\n",
    "print(res.json())"
   ]
  },
  {
   "cell_type": "code",
   "execution_count": 104,
   "metadata": {},
   "outputs": [
    {
     "name": "stdout",
     "output_type": "stream",
     "text": [
      "{'chat_name': 'Before Sunrise', 'participants': ['Jesse', 'Celine']}\n"
     ]
    }
   ],
   "source": [
    "trilogy=[\"Jesse\",\"Celine\"]\n",
    "for name in trilogy:\n",
    "    url=API+f\"/chat/Before Sunrise/adduser/{name}\"\n",
    "    res=requests.get(url)\n",
    "print(res.json())"
   ]
  },
  {
   "cell_type": "code",
   "execution_count": 105,
   "metadata": {},
   "outputs": [
    {
     "name": "stdout",
     "output_type": "stream",
     "text": [
      "{'chat_name': 'Before Sunset', 'participants': ['Jesse', 'Celine']}\n"
     ]
    }
   ],
   "source": [
    "for name in trilogy:\n",
    "    url=API+f\"/chat/Before Sunset/adduser/{name}\"\n",
    "    res=requests.get(url)\n",
    "print(res.json())"
   ]
  },
  {
   "cell_type": "code",
   "execution_count": 106,
   "metadata": {},
   "outputs": [
    {
     "name": "stdout",
     "output_type": "stream",
     "text": [
      "{'chat_name': 'Before Midnight', 'participants': ['Jesse', 'Celine']}\n"
     ]
    }
   ],
   "source": [
    "for name in trilogy:\n",
    "    url=API+f\"/chat/Before Midnight/adduser/{name}\"\n",
    "    res=requests.get(url)\n",
    "print(res.json())"
   ]
  },
  {
   "cell_type": "code",
   "execution_count": 107,
   "metadata": {},
   "outputs": [
    {
     "name": "stdout",
     "output_type": "stream",
     "text": [
      "{'chat_name': 'Eternal Sunshine Of The Spotless Mind', 'participants': ['Clementine Kruczynski', 'Joel Barish', 'Mary']}\n"
     ]
    }
   ],
   "source": [
    "eternal=[\"Clementine Kruczynski\",\"Joel Barish\",\"Mary\"]\n",
    "for name in eternal:\n",
    "    url=API+f\"/chat/Eternal Sunshine Of The Spotless Mind/adduser/{name}\"\n",
    "    res=requests.get(url)\n",
    "print(res.json())"
   ]
  },
  {
   "cell_type": "code",
   "execution_count": 108,
   "metadata": {},
   "outputs": [
    {
     "name": "stdout",
     "output_type": "stream",
     "text": [
      "{\"chat_name\": \"Before Sunrise\", \"username\": \"Jesse\", \"message\": \"Everything that's interesting costs a little bit of money. I'm telling you.\"}\n",
      "{\"chat_name\": \"Before Sunrise\", \"username\": \"Jesse\", \"message\": \"I don't know, I think that if I could just accept the fact that my life is supposed to be difficult. You know, that's what to be expected, then I might not get so pissed-off about it and I'll just be glad when something nice happens.\"}\n",
      "{\"chat_name\": \"Before Sunrise\", \"username\": \"Jesse\", \"message\": \"People always talk about how love is this totally unselfish, giving thing, but if you think about it, there's nothing more selfish.\"}\n"
     ]
    }
   ],
   "source": [
    "messages=[\"Everything that's interesting costs a little bit of money. I'm telling you.\",\n",
    "          \"I don't know, I think that if I could just accept the fact that my life is supposed to be difficult. You know, that's what to be expected, then I might not get so pissed-off about it and I'll just be glad when something nice happens.\",\n",
    "          \"People always talk about how love is this totally unselfish, giving thing, but if you think about it, there's nothing more selfish.\"]\n",
    "for message in messages:\n",
    "    url=API+f\"/chat/Before Sunrise/user/Jesse/addmessage/{message}\"\n",
    "    res=requests.get(url)\n",
    "    print(res.text)"
   ]
  },
  {
   "cell_type": "code",
   "execution_count": 109,
   "metadata": {},
   "outputs": [
    {
     "name": "stdout",
     "output_type": "stream",
     "text": [
      "{\"chat_name\": \"Before Sunrise\", \"username\": \"Celine\", \"message\": \"Isn't everything we do in life a way to be loved a little more\"}\n",
      "{\"chat_name\": \"Before Sunrise\", \"username\": \"Celine\", \"message\": \"I used to think that if none of your family or friends knew you were dead, it was like not really being dead. People can invent the best and the worst for you.\"}\n",
      "{\"chat_name\": \"Before Sunrise\", \"username\": \"Celine\", \"message\": \"Media is the new form of fascism.\"}\n"
     ]
    }
   ],
   "source": [
    "messages=[\"Isn't everything we do in life a way to be loved a little more?\",\n",
    "          \"I used to think that if none of your family or friends knew you were dead, it was like not really being dead. People can invent the best and the worst for you.\",\n",
    "         \"Media is the new form of fascism.\"]\n",
    "for message in messages:\n",
    "    url=API+f\"/chat/Before Sunrise/user/Celine/addmessage/{message}\"\n",
    "    res=requests.get(url)\n",
    "    print(res.text)"
   ]
  },
  {
   "cell_type": "code",
   "execution_count": 110,
   "metadata": {},
   "outputs": [
    {
     "name": "stdout",
     "output_type": "stream",
     "text": [
      "{\"chat_name\": \"Before Sunset\", \"username\": \"Celine\", \"message\": \"The true work of improving things is in the little achievements of the day, and that's what you need to enjoy.\"}\n",
      "{\"chat_name\": \"Before Sunset\", \"username\": \"Celine\", \"message\": \"Even being alone--it's better than being with a lover and feeling lonely.\"}\n"
     ]
    }
   ],
   "source": [
    "messages=[\"The true work of improving things is in the little achievements of the day, and that's what you need to enjoy.\",\n",
    "         \"Even being alone--it's better than being with a lover and feeling lonely.\"]\n",
    "for message in messages:\n",
    "    url=API+f\"/chat/Before Sunset/user/Celine/addmessage/{message}\"\n",
    "    res=requests.get(url)\n",
    "    print(res.text)"
   ]
  },
  {
   "cell_type": "code",
   "execution_count": 111,
   "metadata": {},
   "outputs": [
    {
     "name": "stdout",
     "output_type": "stream",
     "text": [
      "{\"chat_name\": \"Before Sunset\", \"username\": \"Jesse\", \"message\": \" Happiness is in doing, not in getting what you want.\"}\n",
      "{\"chat_name\": \"Before Sunset\", \"username\": \"Jesse\", \"message\": \" I'm designed to feel slightly dissatisfied!\"}\n"
     ]
    }
   ],
   "source": [
    "messages=[\" Happiness is in doing, not in getting what you want.\",\n",
    "         \" I'm designed to feel slightly dissatisfied!\"]\n",
    "for message in messages:\n",
    "    url=API+f\"/chat/Before Sunset/user/Jesse/addmessage/{message}\"\n",
    "    res=requests.get(url)\n",
    "    print(res.text)"
   ]
  },
  {
   "cell_type": "code",
   "execution_count": 112,
   "metadata": {},
   "outputs": [
    {
     "name": "stdout",
     "output_type": "stream",
     "text": [
      "{\"chat_name\": \"Before Midnight\", \"username\": \"Jesse\", \"message\": \"You remember that guy who loved you and you had that great romance with\"}\n",
      "{\"chat_name\": \"Before Midnight\", \"username\": \"Jesse\", \"message\": \"You have to be a little deluded to be motivated.\"}\n"
     ]
    }
   ],
   "source": [
    "messages=[\"You remember that guy who loved you and you had that great romance with? It's me.\",\n",
    "         \"You have to be a little deluded to be motivated.\"]\n",
    "for message in messages:\n",
    "    url=API+f\"/chat/Before Midnight/user/Jesse/addmessage/{message}\"\n",
    "    res=requests.get(url)\n",
    "    print(res.text)"
   ]
  },
  {
   "cell_type": "code",
   "execution_count": 113,
   "metadata": {},
   "outputs": [
    {
     "name": "stdout",
     "output_type": "stream",
     "text": [
      "{\"chat_name\": \"Before Midnight\", \"username\": \"Celine\", \"message\": \"Well, it must be one hell of a night we're about to have.\"}\n",
      "{\"chat_name\": \"Before Midnight\", \"username\": \"Celine\", \"message\": \"The world is fucked by unemotional, rational men deciding shit.\"}\n",
      "{\"chat_name\": \"Before Midnight\", \"username\": \"Celine\", \"message\": \"We all get dragged through our parents' lives.\"}\n"
     ]
    }
   ],
   "source": [
    "messages=[\"Well, it must be one hell of a night we're about to have.\",\n",
    "         \"The world is fucked by unemotional, rational men deciding shit.\",\n",
    "         \"We all get dragged through our parents' lives.\"]\n",
    "for message in messages:\n",
    "    url=API+f\"/chat/Before Midnight/user/Celine/addmessage/{message}\"\n",
    "    res=requests.get(url)\n",
    "    print(res.text)"
   ]
  },
  {
   "cell_type": "code",
   "execution_count": 114,
   "metadata": {},
   "outputs": [
    {
     "name": "stdout",
     "output_type": "stream",
     "text": [
      "{\"chat_name\": \"Eternal Sunshine Of The Spotless Mind\", \"username\": \"Clementine Kruczynski\", \"message\": \"Too many guys think I'm a concept, or I complete them, or I'm gonna make them alive. But I'm just a fucked-up girl who's lookin' for my own peace of mind; don't assign me yours.\"}\n",
      "{\"chat_name\": \"Eternal Sunshine Of The Spotless Mind\", \"username\": \"Clementine Kruczynski\", \"message\": \"But you will, you will think of things and I'll get bored with you and feel trapped because that's what happens with me.\"}\n"
     ]
    }
   ],
   "source": [
    "messages=[\"Too many guys think I'm a concept, or I complete them, or I'm gonna make them alive. But I'm just a fucked-up girl who's lookin' for my own peace of mind; don't assign me yours.\",\n",
    "         \"But you will, you will think of things and I'll get bored with you and feel trapped because that's what happens with me.\"]\n",
    "for message in messages:\n",
    "    url=API+f\"/chat/Eternal Sunshine Of The Spotless Mind/user/Clementine Kruczynski/addmessage/{message}\"\n",
    "    res=requests.get(url)\n",
    "    print(res.text)"
   ]
  },
  {
   "cell_type": "code",
   "execution_count": 115,
   "metadata": {},
   "outputs": [
    {
     "name": "stdout",
     "output_type": "stream",
     "text": [
      "{\"chat_name\": \"Eternal Sunshine Of The Spotless Mind\", \"username\": \"Joel Barish\", \"message\": \"Why do I fall in love with every woman I see that shows me the least bit of attention\"}\n",
      "{\"chat_name\": \"Eternal Sunshine Of The Spotless Mind\", \"username\": \"Joel Barish\", \"message\": \"Constantly talking isn't necessarily communicating.\"}\n",
      "{\"chat_name\": \"Eternal Sunshine Of The Spotless Mind\", \"username\": \"Joel Barish\", \"message\": \"Sand is overrated. It's just tiny, little rocks.\"}\n"
     ]
    }
   ],
   "source": [
    "messages=[\"Why do I fall in love with every woman I see that shows me the least bit of attention?\",\n",
    "         \"Constantly talking isn't necessarily communicating.\",\n",
    "         \"Sand is overrated. It's just tiny, little rocks.\"]\n",
    "for message in messages:\n",
    "    url=API+f\"/chat/Eternal Sunshine Of The Spotless Mind/user/Joel Barish/addmessage/{message}\"\n",
    "    res=requests.get(url)\n",
    "    print(res.text)"
   ]
  },
  {
   "cell_type": "code",
   "execution_count": 116,
   "metadata": {},
   "outputs": [
    {
     "name": "stdout",
     "output_type": "stream",
     "text": [
      "{\"chat_name\": \"Eternal Sunshine Of The Spotless Mind\", \"username\": \"Mary\", \"message\": \"How happy is the blameless vestal's lot! The world forgetting, by the world forgot. Eternal sunshine of the spotless mind! Each pray'r accepted, and each wish resign'd.\"}\n",
      "{\"chat_name\": \"Eternal Sunshine Of The Spotless Mind\", \"username\": \"Mary\", \"message\": \"Adults are, like, this mess of sadness and phobias.\"}\n"
     ]
    }
   ],
   "source": [
    "messages=[\"How happy is the blameless vestal's lot! The world forgetting, by the world forgot. Eternal sunshine of the spotless mind! Each pray'r accepted, and each wish resign'd.\",\n",
    "         \"Adults are, like, this mess of sadness and phobias.\"]\n",
    "for message in messages:\n",
    "    url=API+f\"/chat/Eternal Sunshine Of The Spotless Mind/user/Mary/addmessage/{message}\"\n",
    "    res=requests.get(url)\n",
    "    print(res.text)"
   ]
  },
  {
   "cell_type": "code",
   "execution_count": 117,
   "metadata": {
    "scrolled": true
   },
   "outputs": [
    {
     "name": "stdout",
     "output_type": "stream",
     "text": [
      "{'chat_name': 'Eternal Sunshine Of The Spotless Mind', 'message': [\"Too many guys think I'm a concept, or I complete them, or I'm gonna make them alive. But I'm just a fucked-up girl who's lookin' for my own peace of mind; don't assign me yours.\", \"But you will, you will think of things and I'll get bored with you and feel trapped because that's what happens with me.\", 'Why do I fall in love with every woman I see that shows me the least bit of attention', \"Constantly talking isn't necessarily communicating.\", \"Sand is overrated. It's just tiny, little rocks.\", \"How happy is the blameless vestal's lot! The world forgetting, by the world forgot. Eternal sunshine of the spotless mind! Each pray'r accepted, and each wish resign'd.\", 'Adults are, like, this mess of sadness and phobias.']}\n",
      "{'chat_name': 'Before Sunrise', 'message': [\"Everything that's interesting costs a little bit of money. I'm telling you.\", \"I don't know, I think that if I could just accept the fact that my life is supposed to be difficult. You know, that's what to be expected, then I might not get so pissed-off about it and I'll just be glad when something nice happens.\", \"People always talk about how love is this totally unselfish, giving thing, but if you think about it, there's nothing more selfish.\", \"Isn't everything we do in life a way to be loved a little more\", 'I used to think that if none of your family or friends knew you were dead, it was like not really being dead. People can invent the best and the worst for you.', 'Media is the new form of fascism.']}\n",
      "{'chat_name': 'Before Sunset', 'message': [\"The true work of improving things is in the little achievements of the day, and that's what you need to enjoy.\", \"Even being alone--it's better than being with a lover and feeling lonely.\", ' Happiness is in doing, not in getting what you want.', \" I'm designed to feel slightly dissatisfied!\"]}\n",
      "{'chat_name': 'Before Midnight', 'message': ['You remember that guy who loved you and you had that great romance with', 'You have to be a little deluded to be motivated.', \"Well, it must be one hell of a night we're about to have.\", 'The world is fucked by unemotional, rational men deciding shit.', \"We all get dragged through our parents' lives.\"]}\n"
     ]
    }
   ],
   "source": [
    "for chat in chats:\n",
    "    url=API+f\"/chat/{chat}/list\"\n",
    "    res=requests.get(url)\n",
    "    print(res.json())"
   ]
  },
  {
   "cell_type": "code",
   "execution_count": 67,
   "metadata": {},
   "outputs": [
    {
     "data": {
      "text/plain": [
       "{'positive_sentiment': 0.19133333333333333,\n",
       " 'negative_sentiment': 0.05216666666666667}"
      ]
     },
     "execution_count": 67,
     "metadata": {},
     "output_type": "execute_result"
    }
   ],
   "source": [
    "url=API+f\"/chat/Before Sunrise/sentiment\"\n",
    "res=requests.get(url)\n",
    "res.json()"
   ]
  },
  {
   "cell_type": "markdown",
   "metadata": {},
   "source": [
    " "
   ]
  },
  {
   "cell_type": "markdown",
   "metadata": {},
   "source": [
    " "
   ]
  },
  {
   "cell_type": "markdown",
   "metadata": {},
   "source": [
    " "
   ]
  }
 ],
 "metadata": {
  "kernelspec": {
   "display_name": "Python 3",
   "language": "python",
   "name": "python3"
  },
  "language_info": {
   "codemirror_mode": {
    "name": "ipython",
    "version": 3
   },
   "file_extension": ".py",
   "mimetype": "text/x-python",
   "name": "python",
   "nbconvert_exporter": "python",
   "pygments_lexer": "ipython3",
   "version": "3.7.7"
  }
 },
 "nbformat": 4,
 "nbformat_minor": 4
}
