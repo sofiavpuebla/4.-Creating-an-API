{
 "cells": [
  {
   "cell_type": "code",
   "execution_count": 48,
   "metadata": {},
   "outputs": [],
   "source": [
    "import requests"
   ]
  },
  {
   "cell_type": "code",
   "execution_count": 49,
   "metadata": {},
   "outputs": [],
   "source": [
    "url=\"http://localhost:5000/\""
   ]
  },
  {
   "cell_type": "code",
   "execution_count": 50,
   "metadata": {},
   "outputs": [
    {
     "data": {
      "text/plain": [
       "'Welcome to my api'"
      ]
     },
     "execution_count": 50,
     "metadata": {},
     "output_type": "execute_result"
    }
   ],
   "source": [
    "res=requests.get(url)\n",
    "res.text"
   ]
  },
  {
   "cell_type": "code",
   "execution_count": 51,
   "metadata": {},
   "outputs": [],
   "source": [
    "from pymongo import MongoClient"
   ]
  },
  {
   "cell_type": "code",
   "execution_count": 52,
   "metadata": {},
   "outputs": [
    {
     "name": "stdout",
     "output_type": "stream",
     "text": [
      "connected to mongodb://localhost/myapi\n"
     ]
    }
   ],
   "source": [
    "DBURL= \"mongodb://localhost/myapi\"\n",
    "client = MongoClient(DBURL)\n",
    "print(f\"connected to {DBURL}\")\n",
    "db = client.get_database()"
   ]
  },
  {
   "cell_type": "code",
   "execution_count": 53,
   "metadata": {},
   "outputs": [
    {
     "name": "stdout",
     "output_type": "stream",
     "text": [
      "{'_id': {'$oid': '5f0cd0ac9ac896d5ef1a7c22'}, 'username': 'Jesse'}\n",
      "{'_id': {'$oid': '5f0cd0ac9ac896d5ef1a7c23'}, 'username': 'Celine'}\n",
      "{'_id': {'$oid': '5f0cd0ac9ac896d5ef1a7c24'}, 'username': 'Clementine Kruczynski'}\n",
      "{'_id': {'$oid': '5f0cd0ac9ac896d5ef1a7c25'}, 'username': 'Joel Barish'}\n",
      "{'_id': {'$oid': '5f0cd0ac9ac896d5ef1a7c26'}, 'username': 'Mary'}\n"
     ]
    }
   ],
   "source": [
    "names=[\"Jesse\",\"Celine\",\"Clementine Kruczynski\",\"Joel Barish\",\"Mary\"]\n",
    "for name in names:\n",
    "    url=f\"http://localhost:5000/user/create/{name}\"\n",
    "    res=requests.get(url)\n",
    "    print(res.json())"
   ]
  },
  {
   "cell_type": "code",
   "execution_count": null,
   "metadata": {},
   "outputs": [],
   "source": []
  },
  {
   "cell_type": "code",
   "execution_count": 54,
   "metadata": {},
   "outputs": [
    {
     "name": "stdout",
     "output_type": "stream",
     "text": [
      "{'_id': {'$oid': '5f0cd0ac9ac896d5ef1a7c27'}, 'chat_name': 'Eternal Sunshine Of The Spotless Mind'}\n",
      "{'_id': {'$oid': '5f0cd0ac9ac896d5ef1a7c28'}, 'chat_name': 'Before Sunrise'}\n",
      "{'_id': {'$oid': '5f0cd0ac9ac896d5ef1a7c29'}, 'chat_name': 'Before Sunset'}\n",
      "{'_id': {'$oid': '5f0cd0ac9ac896d5ef1a7c2a'}, 'chat_name': 'Before Midnight'}\n"
     ]
    }
   ],
   "source": [
    "chats=[\"Eternal Sunshine Of The Spotless Mind\",\"Before Sunrise\",\"Before Sunset\",\"Before Midnight\"]\n",
    "for chat in chats:\n",
    "    url=f\"http://localhost:5000/chat/create/{chat}\"\n",
    "    res=requests.get(url)\n",
    "    print(res.json())"
   ]
  },
  {
   "cell_type": "code",
   "execution_count": 55,
   "metadata": {},
   "outputs": [
    {
     "name": "stdout",
     "output_type": "stream",
     "text": [
      "{'_id': {'$oid': '5f0cd0ac9ac896d5ef1a7c28'}, 'participants': [{'$oid': '5f0cd0ac9ac896d5ef1a7c22'}]}\n",
      "{'_id': {'$oid': '5f0cd0ac9ac896d5ef1a7c28'}, 'participants': [{'$oid': '5f0cd0ac9ac896d5ef1a7c22'}, {'$oid': '5f0cd0ac9ac896d5ef1a7c23'}]}\n"
     ]
    }
   ],
   "source": [
    "trilogy=[\"Jesse\",\"Celine\"]\n",
    "for name in trilogy:\n",
    "    url=f\"http://localhost:5000/chat/Before Sunrise/adduser/{name}\"\n",
    "    res=requests.get(url)\n",
    "    print(res.json())"
   ]
  },
  {
   "cell_type": "code",
   "execution_count": 56,
   "metadata": {},
   "outputs": [
    {
     "name": "stdout",
     "output_type": "stream",
     "text": [
      "{'_id': {'$oid': '5f0cd0ac9ac896d5ef1a7c29'}, 'participants': [{'$oid': '5f0cd0ac9ac896d5ef1a7c22'}]}\n",
      "{'_id': {'$oid': '5f0cd0ac9ac896d5ef1a7c29'}, 'participants': [{'$oid': '5f0cd0ac9ac896d5ef1a7c22'}, {'$oid': '5f0cd0ac9ac896d5ef1a7c23'}]}\n"
     ]
    }
   ],
   "source": [
    "for name in trilogy:\n",
    "    url=f\"http://localhost:5000/chat/Before Sunset/adduser/{name}\"\n",
    "    res=requests.get(url)\n",
    "    print(res.json())"
   ]
  },
  {
   "cell_type": "code",
   "execution_count": 57,
   "metadata": {},
   "outputs": [
    {
     "name": "stdout",
     "output_type": "stream",
     "text": [
      "{'_id': {'$oid': '5f0cd0ac9ac896d5ef1a7c2a'}, 'participants': [{'$oid': '5f0cd0ac9ac896d5ef1a7c22'}]}\n",
      "{'_id': {'$oid': '5f0cd0ac9ac896d5ef1a7c2a'}, 'participants': [{'$oid': '5f0cd0ac9ac896d5ef1a7c22'}, {'$oid': '5f0cd0ac9ac896d5ef1a7c23'}]}\n"
     ]
    }
   ],
   "source": [
    "for name in trilogy:\n",
    "    url=f\"http://localhost:5000/chat/Before Midnight/adduser/{name}\"\n",
    "    res=requests.get(url)\n",
    "    print(res.json())"
   ]
  },
  {
   "cell_type": "code",
   "execution_count": 58,
   "metadata": {},
   "outputs": [
    {
     "name": "stdout",
     "output_type": "stream",
     "text": [
      "{'_id': {'$oid': '5f0cd0ac9ac896d5ef1a7c27'}, 'participants': [{'$oid': '5f0cd0ac9ac896d5ef1a7c24'}]}\n",
      "{'_id': {'$oid': '5f0cd0ac9ac896d5ef1a7c27'}, 'participants': [{'$oid': '5f0cd0ac9ac896d5ef1a7c24'}, {'$oid': '5f0cd0ac9ac896d5ef1a7c25'}]}\n",
      "{'_id': {'$oid': '5f0cd0ac9ac896d5ef1a7c27'}, 'participants': [{'$oid': '5f0cd0ac9ac896d5ef1a7c24'}, {'$oid': '5f0cd0ac9ac896d5ef1a7c25'}, {'$oid': '5f0cd0ac9ac896d5ef1a7c26'}]}\n"
     ]
    }
   ],
   "source": [
    "eternal=[\"Clementine Kruczynski\",\"Joel Barish\",\"Mary\"]\n",
    "for name in eternal:\n",
    "    url=f\"http://localhost:5000/chat/Eternal Sunshine Of The Spotless Mind/adduser/{name}\"\n",
    "    res=requests.get(url)\n",
    "    print(res.json())"
   ]
  },
  {
   "cell_type": "code",
   "execution_count": 71,
   "metadata": {},
   "outputs": [
    {
     "name": "stdout",
     "output_type": "stream",
     "text": [
      "{\"_id\": {\"$oid\": \"5f0cd3386eb50e46a7ac4788\"}, \"user\": {\"$oid\": \"5f0cd0ac9ac896d5ef1a7c22\"}, \"chat_name\": \"Before Sunrise\", \"chat\": {\"$oid\": \"5f0cd0ac9ac896d5ef1a7c28\"}, \"message\": \"Everything that's interesting costs a little bit of money. I'm telling you.\"}\n",
      "{\"_id\": {\"$oid\": \"5f0cd3386eb50e46a7ac4789\"}, \"user\": {\"$oid\": \"5f0cd0ac9ac896d5ef1a7c22\"}, \"chat_name\": \"Before Sunrise\", \"chat\": {\"$oid\": \"5f0cd0ac9ac896d5ef1a7c28\"}, \"message\": \"I don't know, I think that if I could just accept the fact that my life is supposed to be difficult. You know, that's what to be expected, then I might not get so pissed-off about it and I'll just be glad when something nice happens.\"}\n",
      "{\"_id\": {\"$oid\": \"5f0cd3386eb50e46a7ac478a\"}, \"user\": {\"$oid\": \"5f0cd0ac9ac896d5ef1a7c22\"}, \"chat_name\": \"Before Sunrise\", \"chat\": {\"$oid\": \"5f0cd0ac9ac896d5ef1a7c28\"}, \"message\": \"People always talk about how love is this totally unselfish, giving thing, but if you think about it, there's nothing more selfish.\"}\n"
     ]
    }
   ],
   "source": [
    "messages=[\"Everything that's interesting costs a little bit of money. I'm telling you.\",\n",
    "          \"I don't know, I think that if I could just accept the fact that my life is supposed to be difficult. You know, that's what to be expected, then I might not get so pissed-off about it and I'll just be glad when something nice happens.\",\n",
    "          \"People always talk about how love is this totally unselfish, giving thing, but if you think about it, there's nothing more selfish.\"]\n",
    "for message in messages:\n",
    "    url=f\"http://localhost:5000/chat/Before Sunrise/user/Jesse/addmessage/{message}\"\n",
    "    res=requests.get(url)\n",
    "    print(res.text)"
   ]
  },
  {
   "cell_type": "code",
   "execution_count": 72,
   "metadata": {},
   "outputs": [
    {
     "name": "stdout",
     "output_type": "stream",
     "text": [
      "{\"_id\": {\"$oid\": \"5f0cd4356eb50e46a7ac478b\"}, \"user\": {\"$oid\": \"5f0cd0ac9ac896d5ef1a7c23\"}, \"chat_name\": \"Before Sunrise\", \"chat\": {\"$oid\": \"5f0cd0ac9ac896d5ef1a7c28\"}, \"message\": \"Isn't everything we do in life a way to be loved a little more\"}\n",
      "{\"_id\": {\"$oid\": \"5f0cd4356eb50e46a7ac478c\"}, \"user\": {\"$oid\": \"5f0cd0ac9ac896d5ef1a7c23\"}, \"chat_name\": \"Before Sunrise\", \"chat\": {\"$oid\": \"5f0cd0ac9ac896d5ef1a7c28\"}, \"message\": \"I used to think that if none of your family or friends knew you were dead, it was like not really being dead. People can invent the best and the worst for you.\"}\n",
      "{\"_id\": {\"$oid\": \"5f0cd4356eb50e46a7ac478d\"}, \"user\": {\"$oid\": \"5f0cd0ac9ac896d5ef1a7c23\"}, \"chat_name\": \"Before Sunrise\", \"chat\": {\"$oid\": \"5f0cd0ac9ac896d5ef1a7c28\"}, \"message\": \"Media is the new form of fascism.\"}\n"
     ]
    }
   ],
   "source": [
    "messages=[\"Isn't everything we do in life a way to be loved a little more?\",\n",
    "          \"I used to think that if none of your family or friends knew you were dead, it was like not really being dead. People can invent the best and the worst for you.\",\n",
    "         \"Media is the new form of fascism.\"]\n",
    "for message in messages:\n",
    "    url=f\"http://localhost:5000/chat/Before Sunrise/user/Celine/addmessage/{message}\"\n",
    "    res=requests.get(url)\n",
    "    print(res.text)"
   ]
  },
  {
   "cell_type": "code",
   "execution_count": 73,
   "metadata": {},
   "outputs": [
    {
     "name": "stdout",
     "output_type": "stream",
     "text": [
      "{\"_id\": {\"$oid\": \"5f0cd4cf6eb50e46a7ac478e\"}, \"user\": {\"$oid\": \"5f0cd0ac9ac896d5ef1a7c23\"}, \"chat_name\": \"Before Sunset\", \"chat\": {\"$oid\": \"5f0cd0ac9ac896d5ef1a7c29\"}, \"message\": \"The true work of improving things is in the little achievements of the day, and that's what you need to enjoy.\"}\n",
      "{\"_id\": {\"$oid\": \"5f0cd4cf6eb50e46a7ac478f\"}, \"user\": {\"$oid\": \"5f0cd0ac9ac896d5ef1a7c23\"}, \"chat_name\": \"Before Sunset\", \"chat\": {\"$oid\": \"5f0cd0ac9ac896d5ef1a7c29\"}, \"message\": \"Even being alone--it's better than being with a lover and feeling lonely.\"}\n"
     ]
    }
   ],
   "source": [
    "messages=[\"The true work of improving things is in the little achievements of the day, and that's what you need to enjoy.\",\n",
    "         \"Even being alone--it's better than being with a lover and feeling lonely.\"]\n",
    "for message in messages:\n",
    "    url=f\"http://localhost:5000/chat/Before Sunset/user/Celine/addmessage/{message}\"\n",
    "    res=requests.get(url)\n",
    "    print(res.text)"
   ]
  },
  {
   "cell_type": "code",
   "execution_count": 74,
   "metadata": {},
   "outputs": [
    {
     "name": "stdout",
     "output_type": "stream",
     "text": [
      "{\"_id\": {\"$oid\": \"5f0cd5376eb50e46a7ac4790\"}, \"user\": {\"$oid\": \"5f0cd0ac9ac896d5ef1a7c22\"}, \"chat_name\": \"Before Sunset\", \"chat\": {\"$oid\": \"5f0cd0ac9ac896d5ef1a7c29\"}, \"message\": \" Happiness is in doing, not in getting what you want.\"}\n",
      "{\"_id\": {\"$oid\": \"5f0cd5376eb50e46a7ac4791\"}, \"user\": {\"$oid\": \"5f0cd0ac9ac896d5ef1a7c22\"}, \"chat_name\": \"Before Sunset\", \"chat\": {\"$oid\": \"5f0cd0ac9ac896d5ef1a7c29\"}, \"message\": \" I'm designed to feel slightly dissatisfied!\"}\n"
     ]
    }
   ],
   "source": [
    "messages=[\" Happiness is in doing, not in getting what you want.\",\n",
    "         \" I'm designed to feel slightly dissatisfied!\"]\n",
    "for message in messages:\n",
    "    url=f\"http://localhost:5000/chat/Before Sunset/user/Jesse/addmessage/{message}\"\n",
    "    res=requests.get(url)\n",
    "    print(res.text)"
   ]
  },
  {
   "cell_type": "code",
   "execution_count": 75,
   "metadata": {},
   "outputs": [
    {
     "name": "stdout",
     "output_type": "stream",
     "text": [
      "{\"_id\": {\"$oid\": \"5f0cd5bd6eb50e46a7ac4792\"}, \"user\": {\"$oid\": \"5f0cd0ac9ac896d5ef1a7c22\"}, \"chat_name\": \"Before Midnight\", \"chat\": {\"$oid\": \"5f0cd0ac9ac896d5ef1a7c2a\"}, \"message\": \"You remember that guy who loved you and you had that great romance with\"}\n",
      "{\"_id\": {\"$oid\": \"5f0cd5bd6eb50e46a7ac4793\"}, \"user\": {\"$oid\": \"5f0cd0ac9ac896d5ef1a7c22\"}, \"chat_name\": \"Before Midnight\", \"chat\": {\"$oid\": \"5f0cd0ac9ac896d5ef1a7c2a\"}, \"message\": \"You have to be a little deluded to be motivated.\"}\n"
     ]
    }
   ],
   "source": [
    "messages=[\"You remember that guy who loved you and you had that great romance with? It's me.\",\n",
    "         \"You have to be a little deluded to be motivated.\"]\n",
    "for message in messages:\n",
    "    url=f\"http://localhost:5000/chat/Before Midnight/user/Jesse/addmessage/{message}\"\n",
    "    res=requests.get(url)\n",
    "    print(res.text)"
   ]
  },
  {
   "cell_type": "code",
   "execution_count": 76,
   "metadata": {},
   "outputs": [
    {
     "name": "stdout",
     "output_type": "stream",
     "text": [
      "{\"_id\": {\"$oid\": \"5f0cd66b6eb50e46a7ac4794\"}, \"user\": {\"$oid\": \"5f0cd0ac9ac896d5ef1a7c23\"}, \"chat_name\": \"Before Midnight\", \"chat\": {\"$oid\": \"5f0cd0ac9ac896d5ef1a7c2a\"}, \"message\": \"Well, it must be one hell of a night we're about to have.\"}\n",
      "{\"_id\": {\"$oid\": \"5f0cd66b6eb50e46a7ac4795\"}, \"user\": {\"$oid\": \"5f0cd0ac9ac896d5ef1a7c23\"}, \"chat_name\": \"Before Midnight\", \"chat\": {\"$oid\": \"5f0cd0ac9ac896d5ef1a7c2a\"}, \"message\": \"The world is fucked by unemotional, rational men deciding shit.\"}\n",
      "{\"_id\": {\"$oid\": \"5f0cd66b6eb50e46a7ac4796\"}, \"user\": {\"$oid\": \"5f0cd0ac9ac896d5ef1a7c23\"}, \"chat_name\": \"Before Midnight\", \"chat\": {\"$oid\": \"5f0cd0ac9ac896d5ef1a7c2a\"}, \"message\": \"We all get dragged through our parents' lives.\"}\n"
     ]
    }
   ],
   "source": [
    "messages=[\"Well, it must be one hell of a night we're about to have.\",\n",
    "         \"The world is fucked by unemotional, rational men deciding shit.\",\n",
    "         \"We all get dragged through our parents' lives.\"]\n",
    "for message in messages:\n",
    "    url=f\"http://localhost:5000/chat/Before Midnight/user/Celine/addmessage/{message}\"\n",
    "    res=requests.get(url)\n",
    "    print(res.text)"
   ]
  },
  {
   "cell_type": "code",
   "execution_count": 77,
   "metadata": {},
   "outputs": [
    {
     "name": "stdout",
     "output_type": "stream",
     "text": [
      "{\"_id\": {\"$oid\": \"5f0cd7336eb50e46a7ac4797\"}, \"user\": {\"$oid\": \"5f0cd0ac9ac896d5ef1a7c24\"}, \"chat_name\": \"Eternal Sunshine Of The Spotless Mind\", \"chat\": {\"$oid\": \"5f0cd0ac9ac896d5ef1a7c27\"}, \"message\": \"Too many guys think I'm a concept, or I complete them, or I'm gonna make them alive. But I'm just a fucked-up girl who's lookin' for my own peace of mind; don't assign me yours.\"}\n",
      "{\"_id\": {\"$oid\": \"5f0cd7336eb50e46a7ac4798\"}, \"user\": {\"$oid\": \"5f0cd0ac9ac896d5ef1a7c24\"}, \"chat_name\": \"Eternal Sunshine Of The Spotless Mind\", \"chat\": {\"$oid\": \"5f0cd0ac9ac896d5ef1a7c27\"}, \"message\": \"But you will, you will think of things and I'll get bored with you and feel trapped because that's what happens with me.\"}\n"
     ]
    }
   ],
   "source": [
    "messages=[\"Too many guys think I'm a concept, or I complete them, or I'm gonna make them alive. But I'm just a fucked-up girl who's lookin' for my own peace of mind; don't assign me yours.\",\n",
    "         \"But you will, you will think of things and I'll get bored with you and feel trapped because that's what happens with me.\"]\n",
    "for message in messages:\n",
    "    url=f\"http://localhost:5000/chat/Eternal Sunshine Of The Spotless Mind/user/Clementine Kruczynski/addmessage/{message}\"\n",
    "    res=requests.get(url)\n",
    "    print(res.text)"
   ]
  },
  {
   "cell_type": "code",
   "execution_count": 78,
   "metadata": {},
   "outputs": [
    {
     "name": "stdout",
     "output_type": "stream",
     "text": [
      "{\"_id\": {\"$oid\": \"5f0cd78b6eb50e46a7ac4799\"}, \"user\": {\"$oid\": \"5f0cd0ac9ac896d5ef1a7c25\"}, \"chat_name\": \"Eternal Sunshine Of The Spotless Mind\", \"chat\": {\"$oid\": \"5f0cd0ac9ac896d5ef1a7c27\"}, \"message\": \"Why do I fall in love with every woman I see that shows me the least bit of attention\"}\n",
      "{\"_id\": {\"$oid\": \"5f0cd78b6eb50e46a7ac479a\"}, \"user\": {\"$oid\": \"5f0cd0ac9ac896d5ef1a7c25\"}, \"chat_name\": \"Eternal Sunshine Of The Spotless Mind\", \"chat\": {\"$oid\": \"5f0cd0ac9ac896d5ef1a7c27\"}, \"message\": \"Constantly talking isn't necessarily communicating.\"}\n",
      "{\"_id\": {\"$oid\": \"5f0cd78b6eb50e46a7ac479b\"}, \"user\": {\"$oid\": \"5f0cd0ac9ac896d5ef1a7c25\"}, \"chat_name\": \"Eternal Sunshine Of The Spotless Mind\", \"chat\": {\"$oid\": \"5f0cd0ac9ac896d5ef1a7c27\"}, \"message\": \"Sand is overrated. It's just tiny, little rocks.\"}\n"
     ]
    }
   ],
   "source": [
    "messages=[\"Why do I fall in love with every woman I see that shows me the least bit of attention?\",\n",
    "         \"Constantly talking isn't necessarily communicating.\",\n",
    "         \"Sand is overrated. It's just tiny, little rocks.\"]\n",
    "for message in messages:\n",
    "    url=f\"http://localhost:5000/chat/Eternal Sunshine Of The Spotless Mind/user/Joel Barish/addmessage/{message}\"\n",
    "    res=requests.get(url)\n",
    "    print(res.text)"
   ]
  },
  {
   "cell_type": "code",
   "execution_count": 79,
   "metadata": {},
   "outputs": [
    {
     "name": "stdout",
     "output_type": "stream",
     "text": [
      "{\"_id\": {\"$oid\": \"5f0cd7db6eb50e46a7ac479c\"}, \"user\": {\"$oid\": \"5f0cd0ac9ac896d5ef1a7c26\"}, \"chat_name\": \"Eternal Sunshine Of The Spotless Mind\", \"chat\": {\"$oid\": \"5f0cd0ac9ac896d5ef1a7c27\"}, \"message\": \"How happy is the blameless vestal's lot! The world forgetting, by the world forgot. Eternal sunshine of the spotless mind! Each pray'r accepted, and each wish resign'd.\"}\n",
      "{\"_id\": {\"$oid\": \"5f0cd7db6eb50e46a7ac479d\"}, \"user\": {\"$oid\": \"5f0cd0ac9ac896d5ef1a7c26\"}, \"chat_name\": \"Eternal Sunshine Of The Spotless Mind\", \"chat\": {\"$oid\": \"5f0cd0ac9ac896d5ef1a7c27\"}, \"message\": \"Adults are, like, this mess of sadness and phobias.\"}\n"
     ]
    }
   ],
   "source": [
    "messages=[\"How happy is the blameless vestal's lot! The world forgetting, by the world forgot. Eternal sunshine of the spotless mind! Each pray'r accepted, and each wish resign'd.\",\n",
    "         \"Adults are, like, this mess of sadness and phobias.\"]\n",
    "for message in messages:\n",
    "    url=f\"http://localhost:5000/chat/Eternal Sunshine Of The Spotless Mind/user/Mary/addmessage/{message}\"\n",
    "    res=requests.get(url)\n",
    "    print(res.text)"
   ]
  },
  {
   "cell_type": "code",
   "execution_count": 121,
   "metadata": {},
   "outputs": [
    {
     "name": "stdout",
     "output_type": "stream",
     "text": [
      "Eternal Sunshine Of The Spotless Mind [\"Too many guys think I'm a concept, or I complete them, or I'm gonna make them alive. But I'm just a fucked-up girl who's lookin' for my own peace of mind; don't assign me yours.\", \"But you will, you will think of things and I'll get bored with you and feel trapped because that's what happens with me.\", 'Why do I fall in love with every woman I see that shows me the least bit of attention', \"Constantly talking isn't necessarily communicating.\", \"Sand is overrated. It's just tiny, little rocks.\", \"How happy is the blameless vestal's lot! The world forgetting, by the world forgot. Eternal sunshine of the spotless mind! Each pray'r accepted, and each wish resign'd.\", 'Adults are, like, this mess of sadness and phobias.']\n",
      "Before Sunrise [\"Everything that's interesting costs a little bit of money. I'm telling you.\", \"I don't know, I think that if I could just accept the fact that my life is supposed to be difficult. You know, that's what to be expected, then I might not get so pissed-off about it and I'll just be glad when something nice happens.\", \"People always talk about how love is this totally unselfish, giving thing, but if you think about it, there's nothing more selfish.\", \"Isn't everything we do in life a way to be loved a little more\", 'I used to think that if none of your family or friends knew you were dead, it was like not really being dead. People can invent the best and the worst for you.', 'Media is the new form of fascism.']\n",
      "Before Sunset [\"The true work of improving things is in the little achievements of the day, and that's what you need to enjoy.\", \"Even being alone--it's better than being with a lover and feeling lonely.\", ' Happiness is in doing, not in getting what you want.', \" I'm designed to feel slightly dissatisfied!\"]\n",
      "Before Midnight ['You remember that guy who loved you and you had that great romance with', 'You have to be a little deluded to be motivated.', \"Well, it must be one hell of a night we're about to have.\", 'The world is fucked by unemotional, rational men deciding shit.', \"We all get dragged through our parents' lives.\"]\n"
     ]
    }
   ],
   "source": [
    "for chat in chats:\n",
    "    url=f\"http://localhost:5000//chat/{chat}/list\"\n",
    "    res=requests.get(url)\n",
    "    print(chat,res.json())\n"
   ]
  },
  {
   "cell_type": "markdown",
   "metadata": {},
   "source": [
    " "
   ]
  },
  {
   "cell_type": "markdown",
   "metadata": {},
   "source": [
    " "
   ]
  }
 ],
 "metadata": {
  "kernelspec": {
   "display_name": "Python 3",
   "language": "python",
   "name": "python3"
  },
  "language_info": {
   "codemirror_mode": {
    "name": "ipython",
    "version": 3
   },
   "file_extension": ".py",
   "mimetype": "text/x-python",
   "name": "python",
   "nbconvert_exporter": "python",
   "pygments_lexer": "ipython3",
   "version": "3.7.7"
  }
 },
 "nbformat": 4,
 "nbformat_minor": 4
}
